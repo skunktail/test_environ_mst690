{
 "cells": [
  {
   "cell_type": "markdown",
   "metadata": {},
   "source": [
    "# Class Exercise From Week1 Slides\n",
    "run here in this test environment"
   ]
  },
  {
   "cell_type": "code",
   "execution_count": 2,
   "metadata": {},
   "outputs": [
    {
     "name": "stdout",
     "output_type": "stream",
     "text": [
      "5.0\n",
      "3.605551275463989\n"
     ]
    }
   ],
   "source": [
    "#Import the numpy library, which is useful for mathematical calculations\n",
    "import numpy as np\n",
    "\n",
    "#Build a numpy array a\n",
    "a = np.array([0,4,6,10])\n",
    "\n",
    "#Calculate mean of a\n",
    "m = np.mean(a)\n",
    "\n",
    "#Print the result\n",
    "print(m)\n",
    "\n",
    "#Calculate the standard deviation of a\n",
    "st_dev = np.std(a)\n",
    "\n",
    "#Print the result\n",
    "print(st_dev)\n"
   ]
  }
 ],
 "metadata": {
  "kernelspec": {
   "display_name": "Python 3",
   "language": "python",
   "name": "python3"
  },
  "language_info": {
   "codemirror_mode": {
    "name": "ipython",
    "version": 3
   },
   "file_extension": ".py",
   "mimetype": "text/x-python",
   "name": "python",
   "nbconvert_exporter": "python",
   "pygments_lexer": "ipython3",
   "version": "3.8.3"
  }
 },
 "nbformat": 4,
 "nbformat_minor": 4
}
